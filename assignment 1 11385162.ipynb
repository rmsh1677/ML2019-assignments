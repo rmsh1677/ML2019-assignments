{
  "nbformat": 4,
  "nbformat_minor": 0,
  "metadata": {
    "colab": {
      "name": "Untitled1.ipynb",
      "version": "0.3.2",
      "provenance": [],
      "include_colab_link": true
    },
    "kernelspec": {
      "name": "python3",
      "display_name": "Python 3"
    }
  },
  "cells": [
    {
      "cell_type": "markdown",
      "metadata": {
        "id": "view-in-github",
        "colab_type": "text"
      },
      "source": [
        "<a href=\"https://colab.research.google.com/github/rmsh1677/ML2019-assignments/blob/master/assignment%201%2011385162.ipynb\" target=\"_parent\"><img src=\"https://colab.research.google.com/assets/colab-badge.svg\" alt=\"Open In Colab\"/></a>"
      ]
    },
    {
      "cell_type": "code",
      "metadata": {
        "id": "BpOPF3g4OchB",
        "colab_type": "code",
        "colab": {}
      },
      "source": [
        "#Machine learning Assignment 1 : Understanding the Literature\n",
        "\n",
        "##Geun Ho CHOI 11385162\n",
        "\n",
        "###The research article ‘Computer-aided Prognosis of Neuroblastoma based on CNN(Convolutional Neural Network) via Transfer Learning and Data Augmentation’ explores development of image classification machine learning model to discover distinctive characteristics from histological images of Neuroblastoma tissues. The findings will enhance the performance of the prognosis of CNN on Neuroblastoma which represents 8% of all malignancies and is the most common extracranial tumour in infant [1] and it rapidly advances to rapid progression and causing fatalities without the early diagnosis. CNN is important as it is a class of deep neural networks that is able to analyse visual images such as histological images of tissues. It was found CNN achieved state-of -the-art performance in computer vision tasks from object classification and detection to segmentation [2]. This research evaluates and compares a machine learning approach to classify high-resolution histological images of neuroblastoma tissue in to five different categories such as There were total five different classes based on the Shimada classification system, which were undifferentiated neuroblastoma (UDNB), differentiating neuroblastoma (DNB), poorly-differentiated neuroblastoma (PDNB), ganglioneuroblastoma (GNB), and ganglioneuroma (GN) determined using convolutional deep belief network. This paper focuses to find which combination of CNN and various methods such as CLBP, PCLBP, VGG-16, VGG19, ALEXNET, CDBN and SIFT results the best accuracy for categorisation of Neuroblastoma in to five different classes. Based on algorithms, Computer Aided Diagnosis (CAD) system have been utilised as complementary method for assisting manual diagnosis which has potential to detect relationships that human are not able to detect [3].\n",
        "\n",
        "####The research is innovative in a way that it displays application of machine learning in to medical dedicated visual assessments that human are not capable doing so. This study proposes the utilization of deep learning and anti-body guided annotation to quantify immune cell-rich areas in hematoxylin and eosin samples which has never done before. However similar study has been performed before such as [4] features extracted from CNN and classified by SVM are used to analyze scanned images of antibody obtained from twenty breast cancer patients. However, it does not bring down innovation of this study as it targets on classification of neuroblastoma which has never tried mainly due to small numbers of histological images. Additionally, the study compares different methods to find a model with the highest accuracy rate which is 92.55% that outperforms the state-of-are methods.\n",
        "\n",
        "#####The first limitation is that there were not adequate controlled experiments to ensure the model to achieve the optimal performance. For configurations, structures and parameters of the model were very difficult to choose as they are initiated with empirical rate. adjustments and close observations based on sufficient controlled experiments were required to get optimal values. Also, data set was very small which lowers validity of whole experiment. The study demonstrated computer aided prognosis model to extract high-level characteristics from histological images of Neuroblastoma tissues by use of CNN. It successfully enhanced the performance of the diagnosis through extracting the high characteristics of tumour tissues and classifying them in to five categories. Its testing set achieved 92% average which is an improved result than other models given. However, the dataset given was quite small which lowers validity but at the same time it also implies that model is able to function with small amount of data. Such a rare disease like this, it is realistically very difficult to obtain histological samples in large amount. The model effectively utilised data augmentation, transfer learning and fine-tuning to maximise the performance with the combination of CNN(Resnet50). However, controlled experiment is necessarily required for optimisation of the model.\n",
        "\n",
        "######This result is highly beneficial to small organisations or individual researchers who are not able to large amount of dataset for image classification as CNN model functions works based on small datasets. However, the model is not fully adequate to be applied in real medical field as it requires double check and close manual diagnosis of the results obtained from model. However this model carries enormous potential to be used in various industries where image classifications are required by computing program automatically thus saving cost and time. Additionally, the use of the model increases marginal accuracy of the image classification with optimised setting and environment. However, It does not only rely on the model itself, it relies on many factors such as size of data, quality of data and many factors which creates the model vulnerable to be used in real life where a lot of unknown factors exit.\n",
        "\n",
        "#######Presentation of this paper is overall very good but has minor problems. Firstly, there are too many comparisons with very large amount of information which lowers clarity of the objective of the research when reading. It could have contained more information on the experiment that study focused on as the results from comparison is from other studies. Secondly, it contains excessive information on each techniques that the research used. It is useful information for machine learning students, however professional researcher might find the section very time wasting as the study spends majority of content explaining the techniques. Argument and limitations of the paper were well written as discussion could have had more improvements and future applciations.\n",
        "\n",
        "########[1]Ries, L.; Smith, M.A.; Gurney, J.G.; Linet, M.; Tamra, T.; Bunin, J.L.Y.G.R.; Linet, M.; Tamra, T.; Young, J.L.; Bunin, G.R. Cancer Incidence and Survival among Children and Adolescents; SEER Program: Bethesda, MD, USA, 1999.\n",
        "\n",
        "#########[2]W. London, R. Castleberry, K. Matthay, A. Look, R. Seeger, H. Shimada, P. Thorner, G. Brodeur, J. Maris, C. Reynolds, Evidence for an age cutoff greater than 365 days for neuroblastoma risk group stratification in the Children’s Oncology Group, Journal of clinical oncology 23 (27) (2005) 6459–65.\n",
        "\n",
        "##########[3] K. Yu, C. Zhang, G. Berry, R. Altman, C. Re, D. Rubin, M. Snyder, Predicting Non-Small Cell Lung Cancer Prognosis by Fully Automated Microscopic Pathology Image Features, Nature Communications 7 (2016) 1–10.\n",
        "\n",
        "###########[4] Ries, L.; Smith, M.A.; Gurney, J.G.; Linet, M.; Tamra, T.; Bunin, J.L.Y.G.R.; Linet, M.; Tamra, T.; Young, J.L.; Bunin, G.R. Cancer Incidence and Survival among Children and Adolescents; SEER Program: Bethesda, MD, USA, 1999."
      ],
      "execution_count": 0,
      "outputs": []
    }
  ]
}